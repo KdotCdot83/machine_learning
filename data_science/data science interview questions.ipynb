{
 "cells": [
  {
   "cell_type": "code",
   "execution_count": null,
   "metadata": {},
   "outputs": [],
   "source": [
    "# Python code to demonstrate naive method\n",
    "# to compute factorial\n",
    "n = 23\n",
    "fact = 1\n",
    " \n",
    "for i in range(1,n+1):\n",
    "    fact = fact * i\n",
    "     \n",
    "print (\"The factorial of 23 is : \".format(fact))\n",
    "print (fact)"
   ]
  },
  {
   "cell_type": "code",
   "execution_count": 24,
   "metadata": {},
   "outputs": [],
   "source": [
    "#from __future__ import division\n",
    "from __future__ import division\n",
    "from math import factorial\n",
    "import numpy as np"
   ]
  },
  {
   "cell_type": "code",
   "execution_count": 40,
   "metadata": {},
   "outputs": [
    {
     "name": "stdout",
     "output_type": "stream",
     "text": [
      "5! = 120 \n",
      "3! = 6\n",
      "5!/3! = 20.0\n"
     ]
    }
   ],
   "source": [
    "x = factorial(5)\n",
    "y = factorial(3)\n",
    "print '5! = {} \\n3! = {}'.format(x,y)\n",
    "print '5!/3! = {}'.format(x/y)"
   ]
  },
  {
   "cell_type": "code",
   "execution_count": null,
   "metadata": {},
   "outputs": [],
   "source": [
    "factorial(365)/factorial(335)"
   ]
  },
  {
   "cell_type": "code",
   "execution_count": 18,
   "metadata": {},
   "outputs": [
    {
     "data": {
      "text/plain": [
       "0.2936837572807313"
      ]
     },
     "execution_count": 18,
     "metadata": {},
     "output_type": "execute_result"
    }
   ],
   "source": [
    "factorial(365)/(factorial(335)*(365**30))"
   ]
  },
  {
   "cell_type": "code",
   "execution_count": 12,
   "metadata": {},
   "outputs": [
    {
     "data": {
      "text/plain": [
       "0.16666666666666666"
      ]
     },
     "execution_count": 12,
     "metadata": {},
     "output_type": "execute_result"
    }
   ],
   "source": [
    "from __future__ import division\n",
    "factorial(7)/(factorial(10-7)*factorial(7))"
   ]
  },
  {
   "cell_type": "code",
   "execution_count": 13,
   "metadata": {},
   "outputs": [
    {
     "data": {
      "text/plain": [
       "604800.0"
      ]
     },
     "execution_count": 13,
     "metadata": {},
     "output_type": "execute_result"
    }
   ],
   "source": [
    "factorial(10)/factorial(3)"
   ]
  },
  {
   "cell_type": "code",
   "execution_count": 17,
   "metadata": {},
   "outputs": [
    {
     "data": {
      "text/plain": [
       "0.06048"
      ]
     },
     "execution_count": 17,
     "metadata": {},
     "output_type": "execute_result"
    }
   ],
   "source": [
    "(factorial(10)/factorial(3))/10**7"
   ]
  },
  {
   "cell_type": "markdown",
   "metadata": {},
   "source": [
    "In a class of 30 students, approximately what is the probability that two of the students have their birthday on the same day (defined by same day and month) (assuming it’s not a leap year)?"
   ]
  },
  {
   "cell_type": "code",
   "execution_count": 43,
   "metadata": {},
   "outputs": [
    {
     "name": "stdout",
     "output_type": "stream",
     "text": [
      "P(no duplicates) = (365!/335!)*(1/365^30) = 0.293683757281\n",
      "Therefore P(duplicates) = 0.706316242719\n"
     ]
    }
   ],
   "source": [
    "a = factorial(365)/(factorial(335)*(365**30))\n",
    "print 'P(no duplicates) = (365!/335!)*(1/365^30) = {}'.format(a)\n",
    "print 'Therefore P(duplicates) = {}'.format(1-a)"
   ]
  },
  {
   "cell_type": "code",
   "execution_count": 20,
   "metadata": {},
   "outputs": [
    {
     "data": {
      "text/plain": [
       "0.06048"
      ]
     },
     "execution_count": 20,
     "metadata": {},
     "output_type": "execute_result"
    }
   ],
   "source": [
    "(factorial(10)/factorial(3))*(1/10**7)"
   ]
  },
  {
   "cell_type": "markdown",
   "metadata": {},
   "source": [
    "Ahmed is playing a lottery game where he must pick 2 numbers from 0 to 9 followed by an English alphabet (from 26-letters). He may choose the same number both times.\n",
    "\n",
    "If his ticket matches the 2 numbers and 1 letter drawn in order, he wins the grand prize and receives 10405. If just his letter matches but one or both of the numbers do not match, he wins 100. Under any other circumstance, he wins nothing. The game costs him 5 to play. Suppose he has chosen 04R to play.\n",
    "\n",
    "What is the expected net profit from playing this ticket?"
   ]
  },
  {
   "cell_type": "markdown",
   "metadata": {},
   "source": [
    "https://www.khanacademy.org/math/statistics-probability/random-variables-stats-library/expected-value-lib/v/expected-value-profit-lottery-ticket"
   ]
  },
  {
   "cell_type": "code",
   "execution_count": 20,
   "metadata": {},
   "outputs": [
    {
     "name": "stdout",
     "output_type": "stream",
     "text": [
      "2.85\n"
     ]
    }
   ],
   "source": [
    "from __future__ import division\n",
    "#probability of winning main prize (E(grand prize))\n",
    "grand = (1/10)*(1/10)*(1/26)\n",
    "exp_grand = grand*(10400)\n",
    "#probability of winning smaller prize - get the letter right\n",
    "small = (1/26)\n",
    "exp_small = small*(95)\n",
    "# probability of nothing\n",
    "nada = 1 - (grand+small)\n",
    "exp_nada = nada *(-5)\n",
    "\n",
    "#print grand,small,nada, (grand+small+nada)\n",
    "print '{0:.2f}'.format(exp_grand + exp_small + exp_nada)"
   ]
  },
  {
   "cell_type": "markdown",
   "metadata": {},
   "source": [
    "P(grand)(10405 - 5) + P(small)*(100 - 5) + P(neither)*(0 - 5)\n",
    "\n",
    "\n",
    "Need to find the probabilities and you're set"
   ]
  },
  {
   "cell_type": "markdown",
   "metadata": {},
   "source": [
    "Assume you sell sandwiches. 70% people choose egg, and the rest choose chicken. What is the probability of selling 2 egg sandwiches to the next 3 customers?"
   ]
  },
  {
   "cell_type": "code",
   "execution_count": 36,
   "metadata": {},
   "outputs": [
    {
     "data": {
      "text/plain": [
       "0.14699999999999996"
      ]
     },
     "execution_count": 36,
     "metadata": {},
     "output_type": "execute_result"
    }
   ],
   "source": [
    "0.7*0.7*0.3"
   ]
  },
  {
   "cell_type": "code",
   "execution_count": 2,
   "metadata": {},
   "outputs": [],
   "source": [
    "from __future__ import division"
   ]
  },
  {
   "cell_type": "code",
   "execution_count": 4,
   "metadata": {},
   "outputs": [
    {
     "data": {
      "text/plain": [
       "0.4927027656760146"
      ]
     },
     "execution_count": 4,
     "metadata": {},
     "output_type": "execute_result"
    }
   ],
   "source": [
    "# how many ppl must be in the room so that the prob that at least 2 ppl share a birthday?\n",
    "factorial(365)/(factorial(342)*(365**23))"
   ]
  },
  {
   "cell_type": "code",
   "execution_count": 6,
   "metadata": {},
   "outputs": [
    {
     "data": {
      "text/plain": [
       "0.06048"
      ]
     },
     "execution_count": 6,
     "metadata": {},
     "output_type": "execute_result"
    }
   ],
   "source": [
    "factorial(10)/(factorial(3)*(10**7))"
   ]
  },
  {
   "cell_type": "code",
   "execution_count": 21,
   "metadata": {},
   "outputs": [
    {
     "name": "stdout",
     "output_type": "stream",
     "text": [
      "1212640\n"
     ]
    }
   ],
   "source": [
    "#how many ways to choose a 4 element password of alphanumeric (but can't be all letters or numbers)\n",
    "no_restrictions = 36**4\n",
    "all_letters = 26**4\n",
    "all_numbers = 10**4\n",
    "print no_restrictions - all_letters - all_numbers"
   ]
  },
  {
   "cell_type": "code",
   "execution_count": 25,
   "metadata": {},
   "outputs": [
    {
     "name": "stdout",
     "output_type": "stream",
     "text": [
      "[ 8 17  5  0 15]\n"
     ]
    }
   ],
   "source": [
    "test = np.random.choice(20,5,replace=False)\n",
    "print test"
   ]
  },
  {
   "cell_type": "code",
   "execution_count": null,
   "metadata": {},
   "outputs": [],
   "source": []
  }
 ],
 "metadata": {
  "kernelspec": {
   "display_name": "Python 2",
   "language": "python",
   "name": "python2"
  },
  "language_info": {
   "codemirror_mode": {
    "name": "ipython",
    "version": 2
   },
   "file_extension": ".py",
   "mimetype": "text/x-python",
   "name": "python",
   "nbconvert_exporter": "python",
   "pygments_lexer": "ipython2",
   "version": "2.7.14"
  }
 },
 "nbformat": 4,
 "nbformat_minor": 2
}

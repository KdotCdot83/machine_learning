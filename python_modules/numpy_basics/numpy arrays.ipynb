{
 "cells": [
  {
   "cell_type": "code",
   "execution_count": 1,
   "metadata": {},
   "outputs": [],
   "source": [
    "import numpy as np\n",
    "\n",
    "np.random.seed(0) # seed for reproducibility"
   ]
  },
  {
   "cell_type": "markdown",
   "metadata": {},
   "source": [
    "\n",
    "# np.array attributes"
   ]
  },
  {
   "cell_type": "code",
   "execution_count": null,
   "metadata": {},
   "outputs": [],
   "source": [
    "# x1 = np.random.randint(10,size=6) # 1d array\n",
    "x2 = np.random.randint(10,size=(3,4))  # 2d array\n",
    "x3 = np.random.randint(10,size=(3,4,5))"
   ]
  },
  {
   "cell_type": "code",
   "execution_count": 10,
   "metadata": {},
   "outputs": [
    {
     "name": "stdout",
     "output_type": "stream",
     "text": [
      "x1 =  [5 0 3 3 7 9] \n",
      "\n",
      "x2 = \n",
      "[[3 5 2 4]\n",
      " [7 6 8 8]\n",
      " [1 6 7 7]] \n",
      "\n",
      "x3 = \n",
      "[[[8 1 5 9 8]\n",
      "  [9 4 3 0 3]\n",
      "  [5 0 2 3 8]\n",
      "  [1 3 3 3 7]]\n",
      "\n",
      " [[0 1 9 9 0]\n",
      "  [4 7 3 2 7]\n",
      "  [2 0 0 4 5]\n",
      "  [5 6 8 4 1]]\n",
      "\n",
      " [[4 9 8 1 1]\n",
      "  [7 9 9 3 6]\n",
      "  [7 2 0 3 5]\n",
      "  [9 4 4 6 4]]]\n"
     ]
    }
   ],
   "source": [
    "print 'x1 = ',x1,'\\n\\n','x2 = \\n',x2, '\\n\\n','x3 = \\n',x3"
   ]
  },
  {
   "cell_type": "code",
   "execution_count": 32,
   "metadata": {},
   "outputs": [
    {
     "name": "stdout",
     "output_type": "stream",
     "text": [
      "x3 attributes: \n",
      "\n",
      "   x3.ndim:  3 \n",
      "   x3 shape:  (3, 4, 5) \n",
      "   x3 size:  60 \n",
      "   x3 dtype:  int64 \n",
      "   x3 itemsize:  8 \n",
      "   x3 nbytes:  480 \n",
      "   x3 nbytes = itemsize * size:  480\n"
     ]
    }
   ],
   "source": [
    "# array atrrributes\n",
    "print 'x3 attributes: \\n', \\\n",
    "        '\\n   x3.ndim: ',x3.ndim, \\\n",
    "        '\\n   x3 shape: ',x3.shape, \\\n",
    "        '\\n   x3 size: ', x3.size, \\\n",
    "        '\\n   x3 dtype: ', x3.dtype, \\\n",
    "        '\\n   x3 itemsize: ', x3.itemsize, \\\n",
    "        '\\n   x3 nbytes: ', x3.nbytes, \\\n",
    "        '\\n   x3 nbytes = itemsize * size: ', x3.size*x3.itemsize \n",
    "        "
   ]
  },
  {
   "cell_type": "markdown",
   "metadata": {},
   "source": [
    "# Array indexing: accessing single elements"
   ]
  },
  {
   "cell_type": "code",
   "execution_count": 39,
   "metadata": {},
   "outputs": [
    {
     "name": "stdout",
     "output_type": "stream",
     "text": [
      "x1:  [5 0 3 3 7 9] \n",
      "\n",
      "x1[0]:  5 \n",
      "x1[4]:  7 \n",
      "x1[-1]:  9 \n",
      "x1[-3]:  3\n"
     ]
    }
   ],
   "source": [
    "print 'x1: ',x1, \\\n",
    "'\\n\\n' 'x1[0]: ',x1[0], \\\n",
    "'\\n' 'x1[4]: ', x1[4], \\\n",
    "'\\n' 'x1[-1]: ', x1[-1], \\\n",
    "'\\n' 'x1[-3]: ', x1[-3]"
   ]
  },
  {
   "cell_type": "code",
   "execution_count": 40,
   "metadata": {},
   "outputs": [
    {
     "name": "stdout",
     "output_type": "stream",
     "text": [
      "x2:  [[3 5 2 4]\n",
      " [7 6 8 8]\n",
      " [1 6 7 7]] \n",
      "\n",
      "x2[0,0]:  3 \n",
      "x2[2,0]:  1 \n",
      "x2[2,-1]:  7\n"
     ]
    }
   ],
   "source": [
    "print 'x2: ',x2, \\\n",
    "'\\n\\n' 'x2[0,0]: ',x2[0,0], \\\n",
    "'\\n' 'x2[2,0]: ', x2[2,0], \\\n",
    "'\\n' 'x2[2,-1]: ', x2[2,-1]"
   ]
  },
  {
   "cell_type": "markdown",
   "metadata": {},
   "source": [
    "# Array slicing: accessing subarrays"
   ]
  },
  {
   "cell_type": "markdown",
   "metadata": {},
   "source": [
    "Format: x[start:stop:step]\n",
    "\n",
    "Defaults:\n",
    "\n",
    "    start = 0 \n",
    "    stop = size of dimension\n",
    "    step = 1"
   ]
  },
  {
   "cell_type": "code",
   "execution_count": 41,
   "metadata": {},
   "outputs": [],
   "source": [
    "# One dimensional subarrays"
   ]
  },
  {
   "cell_type": "code",
   "execution_count": 46,
   "metadata": {},
   "outputs": [
    {
     "name": "stdout",
     "output_type": "stream",
     "text": [
      "[0 1 2 3 4 5 6 7 8 9]\n"
     ]
    }
   ],
   "source": [
    "x = np.arange(10)\n",
    "print x"
   ]
  },
  {
   "cell_type": "code",
   "execution_count": 69,
   "metadata": {},
   "outputs": [],
   "source": [
    "import pprint\n",
    "#help(pprint)"
   ]
  },
  {
   "cell_type": "code",
   "execution_count": 55,
   "metadata": {},
   "outputs": [
    {
     "name": "stdout",
     "output_type": "stream",
     "text": [
      "array([0, 1, 2, 3, 4, 5, 6, 7, 8, 9])\n"
     ]
    }
   ],
   "source": [
    "pp = pprint.PrettyPrinter(indent=4)\n",
    "pp.pprint(x)"
   ]
  },
  {
   "cell_type": "code",
   "execution_count": 68,
   "metadata": {},
   "outputs": [
    {
     "name": "stdout",
     "output_type": "stream",
     "text": [
      "first 5 elements:  [0 1 2 3 4] \n",
      "all elements after the 5th [5 6 7 8 9] \n",
      "(4th element through 7th element):  [4 5 6] \n",
      "every other element (evens):  [0 2 4 6 8] \n",
      "every other element starting at 1(odds):  [1 3 5 7 9]\n"
     ]
    }
   ],
   "source": [
    "print 'first 5 elements: ', x[:5], \\\n",
    "        '\\nall elements after the 5th', x[5:], \\\n",
    "        '\\n(4th element through 7th element): ', x[4:7], \\\n",
    "        '\\nevery other element (evens): ',x[::2], \\\n",
    "        '\\nevery other element starting at 1(odds): ',x[1::2]"
   ]
  },
  {
   "cell_type": "code",
   "execution_count": 61,
   "metadata": {},
   "outputs": [
    {
     "data": {
      "text/plain": [
       "array([0, 1, 2, 3, 4])"
      ]
     },
     "execution_count": 61,
     "metadata": {},
     "output_type": "execute_result"
    }
   ],
   "source": [
    "x[:5]"
   ]
  },
  {
   "cell_type": "code",
   "execution_count": 71,
   "metadata": {},
   "outputs": [],
   "source": [
    "# negative step values \n",
    "#- in this case, the defaults for start and stop are swapped"
   ]
  },
  {
   "cell_type": "code",
   "execution_count": 74,
   "metadata": {},
   "outputs": [
    {
     "name": "stdout",
     "output_type": "stream",
     "text": [
      "all elements, reversed:  [9 8 7 6 5 4 3 2 1 0] \n",
      "reversed every other from index 5:  [5 3 1]\n"
     ]
    }
   ],
   "source": [
    "print 'all elements, reversed: ', x[::-1], \\\n",
    "        '\\nreversed every other from index 5: ', x[5::-2]"
   ]
  },
  {
   "cell_type": "markdown",
   "metadata": {},
   "source": [
    "#multidimensional subarrays"
   ]
  },
  {
   "cell_type": "code",
   "execution_count": 82,
   "metadata": {},
   "outputs": [
    {
     "data": {
      "text/plain": [
       "array([[12,  5,  2,  4],\n",
       "       [ 7,  6,  8,  8],\n",
       "       [ 1,  6,  7,  7]])"
      ]
     },
     "execution_count": 82,
     "metadata": {},
     "output_type": "execute_result"
    }
   ],
   "source": [
    "x2[0,0] = 12"
   ]
  },
  {
   "cell_type": "code",
   "execution_count": 76,
   "metadata": {},
   "outputs": [
    {
     "data": {
      "text/plain": [
       "array([[[0., 0., 0., 0.],\n",
       "        [0., 0., 0., 0.],\n",
       "        [0., 0., 0., 0.]],\n",
       "\n",
       "       [[0., 0., 0., 0.],\n",
       "        [0., 0., 0., 0.],\n",
       "        [0., 0., 0., 0.]]])"
      ]
     },
     "execution_count": 76,
     "metadata": {},
     "output_type": "execute_result"
    }
   ],
   "source": [
    "np.zeros((2,3,4))"
   ]
  },
  {
   "cell_type": "code",
   "execution_count": 93,
   "metadata": {},
   "outputs": [
    {
     "data": {
      "text/plain": [
       "array([[12,  5,  2,  4],\n",
       "       [ 7,  6,  8,  8],\n",
       "       [ 1,  6,  7,  7]])"
      ]
     },
     "execution_count": 93,
     "metadata": {},
     "output_type": "execute_result"
    }
   ],
   "source": [
    "x2"
   ]
  },
  {
   "cell_type": "code",
   "execution_count": 89,
   "metadata": {},
   "outputs": [
    {
     "name": "stdout",
     "output_type": "stream",
     "text": [
      "[[12  5  2]\n",
      " [ 7  6  8]] \n",
      "\n",
      "\n"
     ]
    },
    {
     "data": {
      "text/plain": [
       "array([[12,  2],\n",
       "       [ 7,  8],\n",
       "       [ 1,  7]])"
      ]
     },
     "execution_count": 89,
     "metadata": {},
     "output_type": "execute_result"
    }
   ],
   "source": [
    "print x2[:2,:3], '\\n\\n' #1st 2 rows, 1st 3 columns\n",
    "x2[:3,::2] # all rows, every other column"
   ]
  },
  {
   "cell_type": "code",
   "execution_count": 91,
   "metadata": {},
   "outputs": [
    {
     "data": {
      "text/plain": [
       "array([[ 7,  7,  6,  1],\n",
       "       [ 8,  8,  6,  7],\n",
       "       [ 4,  2,  5, 12]])"
      ]
     },
     "execution_count": 91,
     "metadata": {},
     "output_type": "execute_result"
    }
   ],
   "source": [
    "x2[::-1,::-1] # flips it so the [n,n] cell is the [0,0] cell & vice versa"
   ]
  },
  {
   "cell_type": "code",
   "execution_count": 92,
   "metadata": {},
   "outputs": [
    {
     "data": {
      "text/plain": [
       "array([[ 4,  2,  5, 12],\n",
       "       [ 7,  7,  6,  1]])"
      ]
     },
     "execution_count": 92,
     "metadata": {},
     "output_type": "execute_result"
    }
   ],
   "source": [
    "x2[::2,::-1] # first row and last row backwards (skips)"
   ]
  },
  {
   "cell_type": "code",
   "execution_count": 94,
   "metadata": {},
   "outputs": [],
   "source": [
    "x22 = np.random.randint(10,size=(10,10))"
   ]
  },
  {
   "cell_type": "code",
   "execution_count": 95,
   "metadata": {},
   "outputs": [
    {
     "data": {
      "text/plain": [
       "array([[4, 3, 4, 4, 8, 4, 3, 7, 5, 5],\n",
       "       [0, 1, 5, 9, 3, 0, 5, 0, 1, 2],\n",
       "       [4, 2, 0, 3, 2, 0, 7, 5, 9, 0],\n",
       "       [2, 7, 2, 9, 2, 3, 3, 2, 3, 4],\n",
       "       [1, 2, 9, 1, 4, 6, 8, 2, 3, 0],\n",
       "       [0, 6, 0, 6, 3, 3, 8, 8, 8, 2],\n",
       "       [3, 2, 0, 8, 8, 3, 8, 2, 8, 4],\n",
       "       [3, 0, 4, 3, 6, 9, 8, 0, 8, 5],\n",
       "       [9, 0, 9, 6, 5, 3, 1, 8, 0, 4],\n",
       "       [9, 6, 5, 7, 8, 8, 9, 2, 8, 6]])"
      ]
     },
     "execution_count": 95,
     "metadata": {},
     "output_type": "execute_result"
    }
   ],
   "source": [
    "x22"
   ]
  },
  {
   "cell_type": "code",
   "execution_count": 96,
   "metadata": {},
   "outputs": [
    {
     "data": {
      "text/plain": [
       "array([[5, 5, 7, 3, 4, 8, 4, 4, 3, 4],\n",
       "       [0, 9, 5, 7, 0, 2, 3, 0, 2, 4],\n",
       "       [0, 3, 2, 8, 6, 4, 1, 9, 2, 1],\n",
       "       [4, 8, 2, 8, 3, 8, 8, 0, 2, 3],\n",
       "       [4, 0, 8, 1, 3, 5, 6, 9, 0, 9]])"
      ]
     },
     "execution_count": 96,
     "metadata": {},
     "output_type": "execute_result"
    }
   ],
   "source": [
    "x22[::2,::-1] #every other row backwards columns"
   ]
  },
  {
   "cell_type": "code",
   "execution_count": 100,
   "metadata": {},
   "outputs": [
    {
     "data": {
      "text/plain": [
       "array([[9, 5, 8, 9, 8],\n",
       "       [3, 4, 6, 8, 8],\n",
       "       [0, 0, 3, 8, 8],\n",
       "       [2, 2, 2, 3, 3],\n",
       "       [0, 5, 3, 5, 1]])"
      ]
     },
     "execution_count": 100,
     "metadata": {},
     "output_type": "execute_result"
    }
   ],
   "source": [
    "x22[::-2,::2] # starting from bottom, every other row and every other col"
   ]
  },
  {
   "cell_type": "code",
   "execution_count": 104,
   "metadata": {},
   "outputs": [
    {
     "name": "stdout",
     "output_type": "stream",
     "text": [
      "[[12  5  2  4]\n",
      " [ 7  6  8  8]\n",
      " [ 1  6  7  7]]\n"
     ]
    }
   ],
   "source": [
    "# accessing array rows and columns\n",
    "print x2"
   ]
  },
  {
   "cell_type": "code",
   "execution_count": 105,
   "metadata": {},
   "outputs": [
    {
     "name": "stdout",
     "output_type": "stream",
     "text": [
      "[12  7  1]\n",
      "[12  5  2  4]\n"
     ]
    }
   ],
   "source": [
    "print x2[:,0] # print the 0th element of each row (size = nrows)\n",
    "print x2[0,:] # print the 0th row - all columns (size = ncol)"
   ]
  },
  {
   "cell_type": "code",
   "execution_count": 106,
   "metadata": {},
   "outputs": [],
   "source": [
    "# array slices return views rather than copies of the array data\n",
    "# different than Python list slicing - in lists, slices will be copies"
   ]
  },
  {
   "cell_type": "code",
   "execution_count": 108,
   "metadata": {},
   "outputs": [
    {
     "name": "stdout",
     "output_type": "stream",
     "text": [
      "[[12  5]\n",
      " [ 7  6]]\n"
     ]
    }
   ],
   "source": [
    "# extract a 2X2 subarray\n",
    "x2_sub = x2[:2,:2]\n",
    "print x2_sub"
   ]
  },
  {
   "cell_type": "code",
   "execution_count": 109,
   "metadata": {},
   "outputs": [
    {
     "name": "stdout",
     "output_type": "stream",
     "text": [
      "[[99  5]\n",
      " [ 7  6]]\n"
     ]
    }
   ],
   "source": [
    "# modify subarray\n",
    "x2_sub[0,0] = 99\n",
    "print x2_sub"
   ]
  },
  {
   "cell_type": "code",
   "execution_count": 110,
   "metadata": {},
   "outputs": [
    {
     "name": "stdout",
     "output_type": "stream",
     "text": [
      "[[99  5  2  4]\n",
      " [ 7  6  8  8]\n",
      " [ 1  6  7  7]]\n"
     ]
    }
   ],
   "source": [
    "# notice this changes x2 as well\n",
    "print x2"
   ]
  },
  {
   "cell_type": "code",
   "execution_count": null,
   "metadata": {},
   "outputs": [],
   "source": []
  }
 ],
 "metadata": {
  "kernelspec": {
   "display_name": "Python 2",
   "language": "python",
   "name": "python2"
  },
  "language_info": {
   "codemirror_mode": {
    "name": "ipython",
    "version": 2
   },
   "file_extension": ".py",
   "mimetype": "text/x-python",
   "name": "python",
   "nbconvert_exporter": "python",
   "pygments_lexer": "ipython2",
   "version": "2.7.14"
  }
 },
 "nbformat": 4,
 "nbformat_minor": 2
}

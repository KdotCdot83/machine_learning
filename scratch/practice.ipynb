{
 "cells": [
  {
   "cell_type": "code",
   "execution_count": 11,
   "metadata": {},
   "outputs": [],
   "source": [
    "list1 = [1,4,7,5,3,2,8]\n",
    "list2 = [3,1,6,5,7,4,7]"
   ]
  },
  {
   "cell_type": "code",
   "execution_count": 21,
   "metadata": {},
   "outputs": [
    {
     "name": "stdout",
     "output_type": "stream",
     "text": [
      "lists are equal\n"
     ]
    }
   ],
   "source": [
    "len1 = len(list1)\n",
    "len2 = len(list2)\n",
    "if len1 > len2:\n",
    "    print 'add to list2'\n",
    "elif len1 < len2:\n",
    "    print 'add to list1'\n",
    "else:\n",
    "    print 'lists are equal'"
   ]
  },
  {
   "cell_type": "code",
   "execution_count": null,
   "metadata": {},
   "outputs": [],
   "source": [
    "    for i in range(len1+len2):\n",
    "        if k == len1:\n",
    "            final_sorted_list.extend(list_b[j:])\n",
    "            break\n",
    "        elif j == len2:\n",
    "            final_sorted_list.extend(list_a[k:])\n",
    "            break\n",
    "        elif list_a[k] < list_b[j]:\n",
    "            final_sorted_list.append(list_a[k])\n",
    "            k += 1\n",
    "        else:\n",
    "            final_sorted_list.append(list_b[j])\n",
    "            j += 1\n",
    "    return final_sorted_list"
   ]
  },
  {
   "cell_type": "code",
   "execution_count": 42,
   "metadata": {},
   "outputs": [
    {
     "name": "stdout",
     "output_type": "stream",
     "text": [
      "[1, 4, 7, 5, 3, 2, 8]\n",
      "[3, 1, 6, 5, 7, 4, 7]\n"
     ]
    }
   ],
   "source": [
    "\n",
    "range(len1+len2)\n",
    "list1 + list2\n",
    "print list1\n",
    "print list2"
   ]
  },
  {
   "cell_type": "code",
   "execution_count": 41,
   "metadata": {},
   "outputs": [
    {
     "name": "stdout",
     "output_type": "stream",
     "text": [
      "0 k is now 1\n",
      "1 j is now 1\n",
      "2 j is now 2\n",
      "3 k is now 2\n",
      "4 j is now 3\n",
      "5 j is now 4\n",
      "6 j is now 5\n",
      "7 j is now 6\n",
      "8 j is now 7\n",
      "9 list1[k:] value:  [7, 5, 3, 2, 8]\n",
      "10 list1[k:] value:  [7, 5, 3, 2, 8]\n",
      "11 list1[k:] value:  [7, 5, 3, 2, 8]\n",
      "12 list1[k:] value:  [7, 5, 3, 2, 8]\n",
      "13 list1[k:] value:  [7, 5, 3, 2, 8]\n",
      "[1, 3, 1, 4, 6, 5, 7, 4, 7, 6, 5, 7, 4, 7, 6, 5, 7, 4, 7, 6, 5, 7, 4, 7, 6, 5, 7, 4, 7, 6, 5, 7, 4, 7]\n"
     ]
    }
   ],
   "source": [
    "j = 0\n",
    "k = 0\n",
    "final_sorted_list = []\n",
    "for i in range(len1+len2):\n",
    "    if k == len1:\n",
    "        final_sorted_list.extend(list2[j:])\n",
    "        print i,'list2[j:]: ', list2[j:]\n",
    "    elif j == len2:\n",
    "        print i,'list1[k:] value: ',list1[k:]\n",
    "        final_sorted_list.extend(list2[k:])\n",
    "    elif list1[k] < list2[j]:\n",
    "        #print 'list[k]: ',list1[k]\n",
    "        final_sorted_list.append(list1[k])\n",
    "        k+=1\n",
    "        print i,'k is now {}'.format(k)\n",
    "    else:\n",
    "        #print 'list2[j] value: ', list2[j]\n",
    "        final_sorted_list.append(list2[j])\n",
    "        j+=1\n",
    "        print i,'j is now {}'.format(j)\n",
    "print final_sorted_list"
   ]
  },
  {
   "cell_type": "code",
   "execution_count": null,
   "metadata": {},
   "outputs": [],
   "source": []
  }
 ],
 "metadata": {
  "kernelspec": {
   "display_name": "Python 2",
   "language": "python",
   "name": "python2"
  },
  "language_info": {
   "codemirror_mode": {
    "name": "ipython",
    "version": 2
   },
   "file_extension": ".py",
   "mimetype": "text/x-python",
   "name": "python",
   "nbconvert_exporter": "python",
   "pygments_lexer": "ipython2",
   "version": "2.7.14"
  }
 },
 "nbformat": 4,
 "nbformat_minor": 2
}

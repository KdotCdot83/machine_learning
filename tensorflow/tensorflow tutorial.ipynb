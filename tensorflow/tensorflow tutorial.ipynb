{
 "cells": [
  {
   "cell_type": "markdown",
   "metadata": {},
   "source": [
    "https://www.toptal.com/machine-learning/tensorflow-machine-learning-tutorial"
   ]
  },
  {
   "cell_type": "code",
   "execution_count": 1,
   "metadata": {},
   "outputs": [],
   "source": [
    "from __future__ import absolute_import,division, print_function\n",
    "import tensorflow as tf\n",
    "\n",
    "#turn off if using Sessions\n",
    "#tf.enable_eager_execution()"
   ]
  },
  {
   "cell_type": "code",
   "execution_count": null,
   "metadata": {},
   "outputs": [],
   "source": [
    "tf.executing_eagerly()\n",
    "\n",
    "x = [[2.]]\n",
    "m = tf.matmul(x,x)\n",
    "print(m)"
   ]
  },
  {
   "cell_type": "markdown",
   "metadata": {},
   "source": [
    "What is a tensor? http://textminingonline.com/dive-into-tensorflow-part-ii-basic-concepts\n",
    "\n",
    "Data structure to represent all data - only tensors are passed between operations in the computation graph. Think of it as an n-dim array or list. They have a rank, shape, and a static type - can be rep as a multi-dim array of numbers\n",
    "\n",
    "Examples: scalars, vectors, matrices"
   ]
  },
  {
   "cell_type": "code",
   "execution_count": 3,
   "metadata": {},
   "outputs": [
    {
     "name": "stdout",
     "output_type": "stream",
     "text": [
      "Tensor(\"Add_2:0\", shape=(), dtype=float32)\n",
      "3.0\n"
     ]
    }
   ],
   "source": [
    "# Simple linear function in tf(to evaluate y = 5*x + 13 when x = -2)\n",
    "x = tf.constant(-2.0,name = \"x\",dtype=tf.float32)\n",
    "a = tf.constant(5.0,name=\"a\",dtype=tf.float32)\n",
    "b = tf.constant(13.0,name=\"b\",dtype=tf.float32)\n",
    "\n",
    "y = tf.Variable(tf.add(tf.multiply(a,x),b))\n",
    "c = tf.add(a,b)\n",
    "\n",
    "init = tf.global_variables_initializer()\n",
    "\n",
    "with tf.Session() as session:\n",
    "    session.run(init)\n",
    "    print(session.run(y))"
   ]
  },
  {
   "cell_type": "code",
   "execution_count": null,
   "metadata": {},
   "outputs": [],
   "source": []
  },
  {
   "cell_type": "code",
   "execution_count": null,
   "metadata": {},
   "outputs": [],
   "source": []
  },
  {
   "cell_type": "code",
   "execution_count": null,
   "metadata": {},
   "outputs": [],
   "source": []
  }
 ],
 "metadata": {
  "kernelspec": {
   "display_name": "Python 2",
   "language": "python",
   "name": "python2"
  },
  "language_info": {
   "codemirror_mode": {
    "name": "ipython",
    "version": 2
   },
   "file_extension": ".py",
   "mimetype": "text/x-python",
   "name": "python",
   "nbconvert_exporter": "python",
   "pygments_lexer": "ipython2",
   "version": "2.7.14"
  }
 },
 "nbformat": 4,
 "nbformat_minor": 2
}
